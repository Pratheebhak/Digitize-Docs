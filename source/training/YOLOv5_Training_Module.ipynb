{
  "nbformat": 4,
  "nbformat_minor": 0,
  "metadata": {
    "colab": {
      "name": "YOLOv5 Training Module.ipynb",
      "provenance": [],
      "collapsed_sections": [],
      "toc_visible": true,
      "include_colab_link": true
    },
    "kernelspec": {
      "name": "python3",
      "display_name": "Python 3"
    },
    "accelerator": "GPU"
  },
  "cells": [
    {
      "cell_type": "markdown",
      "metadata": {
        "id": "view-in-github",
        "colab_type": "text"
      },
      "source": [
        "<a href=\"https://colab.research.google.com/github/Pratheebhak/biotag/blob/master/training/YOLOv5_Training_Module.ipynb\" target=\"_parent\"><img src=\"https://colab.research.google.com/assets/colab-badge.svg\" alt=\"Open In Colab\"/></a>"
      ]
    },
    {
      "cell_type": "markdown",
      "metadata": {
        "id": "1-WVNm0FrgIK"
      },
      "source": [
        "# YOLOv5 Object detection: Training on Custom Dataset for OCR \\</biotag>\n",
        "\n",
        "Github Repository: Clone and follow the instructions on this [github repo](https://github.com/ultralytics/yolov5) to implement YOLOv5 object detection model on custom datasets\n",
        "\n",
        "#### Object Detection Repo: \n",
        "- YOLOv5 (Custom Dataset) Github Repo: [Train YOLOv5 on custom dataset](https://github.com/Pratheebhak/yolov5.git)\n",
        "- Automate the process of extracting and tagging handwritten entities from botanical images\n",
        "\n",
        "\n",
        "#### **\\</biotag>** Project: \n",
        "- Project Github Repo: [\\</biotag>](https://github.com/Pratheebhak/biotag.git)\n",
        "- Automate the process of extracting and tagging handwritten entities from botanical images\n",
        "\n",
        "Notebook Pruporse\n",
        ": Train YOLOv5 Object Detection Model on the custom dataset(plant specimen images) to detect the regions in the image which contains the text\n"
      ]
    },
    {
      "cell_type": "markdown",
      "metadata": {
        "id": "aitHgua4tb5M"
      },
      "source": [
        "### Setup\n",
        "\n",
        "Clone repo, install dependencies, %cd into ./yolov5 folder and check GPU."
      ]
    },
    {
      "cell_type": "code",
      "metadata": {
        "id": "Zin3SJ15rae1",
        "outputId": "9e489054-1b55-49a3-ac8f-fd90397b5f3b",
        "colab": {
          "base_uri": "https://localhost:8080/",
          "height": 54
        }
      },
      "source": [
        "!git clone https://github.com/Pratheebhak/yolov5.git # clone forked repo to train on custom datsets\n",
        "!pip install -qr yolov5/requirements.txt  # install dependencies (ignore errors)\n",
        "%cd yolov5\n",
        "\n",
        "import torch\n",
        "from IPython.display import Image, clear_output  # to display images\n",
        "from utils.google_utils import gdrive_download  # to download models/datasets\n",
        "\n",
        "clear_output()\n",
        "print('Setup complete. Using torch %s %s' % (torch.__version__, torch.cuda.get_device_properties(0) if torch.cuda.is_available() else 'CPU'))"
      ],
      "execution_count": null,
      "outputs": [
        {
          "output_type": "stream",
          "text": [
            "Setup complete. Using torch 1.6.0+cu101 _CudaDeviceProperties(name='Tesla P100-PCIE-16GB', major=6, minor=0, total_memory=16280MB, multi_processor_count=56)\n"
          ],
          "name": "stdout"
        }
      ]
    },
    {
      "cell_type": "markdown",
      "metadata": {
        "id": "_HOKXPD9vKgy"
      },
      "source": [
        "### Train your model\n",
        "\n",
        "- To train the model on your custom dataset, please follow the instructions in the following page on YOLOv5's original github repo, [Train Custom Data](https://github.com/ultralytics/yolov5/wiki/Train-Custom-Data)"
      ]
    },
    {
      "cell_type": "code",
      "metadata": {
        "id": "RIJG7Vru2V3E",
        "outputId": "8be4b157-96e2-4f36-90b7-35cc5985517d",
        "colab": {
          "base_uri": "https://localhost:8080/",
          "height": 34
        }
      },
      "source": [
        "from google.colab import drive\n",
        "drive.mount('/content/gdrive')"
      ],
      "execution_count": null,
      "outputs": [
        {
          "output_type": "stream",
          "text": [
            "Mounted at /content/gdrive\n"
          ],
          "name": "stdout"
        }
      ]
    },
    {
      "cell_type": "code",
      "metadata": {
        "id": "41r-d3dlu-j1"
      },
      "source": [
        "# Download the dataset\n",
        "# gdrive_download('1n_oKgR81BJtqk75b00eAjdv03qVCQn2f','coco128.zip')  # coco128 dataset\n",
        "# unzip and move data folder alongside /yolov5\n",
        "!unzip \"/content/gdrive/My Drive/plant11.zip\" -d \"/content/\" \n"
      ],
      "execution_count": null,
      "outputs": []
    },
    {
      "cell_type": "code",
      "metadata": {
        "id": "lOQMLh9y3wwA"
      },
      "source": [
        "# Start tensorboard (optional)\n",
        "%load_ext tensorboard\n",
        "%tensorboard --logdir runs"
      ],
      "execution_count": null,
      "outputs": []
    },
    {
      "cell_type": "code",
      "metadata": {
        "id": "Q7UEepps5mKs"
      },
      "source": [
        "# Train YOLOv5s on plant11 dataset for 3 epochs\n",
        "!python train.py --img 640 --batch 16 --epochs 500 --data plant11.yaml --cfg yolov5splant11.yaml --weights yolov5s.pt --nosave --cache"
      ],
      "execution_count": null,
      "outputs": []
    },
    {
      "cell_type": "code",
      "metadata": {
        "id": "QczgmaCn6PCw"
      },
      "source": [
        "from utils.general import plot_results; plot_results()  # plot results.txt files as results.png"
      ],
      "execution_count": null,
      "outputs": []
    },
    {
      "cell_type": "code",
      "metadata": {
        "id": "riAV46nV-f9l",
        "outputId": "2437ddb4-ee7b-4e42-9265-24d74fabf999",
        "colab": {
          "base_uri": "https://localhost:8080/",
          "height": 52
        }
      },
      "source": [
        "from tensorboard import notebook\n",
        "notebook.list() # View open TensorBoard instances"
      ],
      "execution_count": null,
      "outputs": [
        {
          "output_type": "stream",
          "text": [
            "Known TensorBoard instances:\n",
            "  - port 6006: logdir runs (started 0:20:12 ago; pid 414)\n"
          ],
          "name": "stdout"
        }
      ]
    },
    {
      "cell_type": "code",
      "metadata": {
        "id": "v5N4MVX0cNse"
      },
      "source": [
        "# Control TensorBoard display. If no port is provided, \n",
        "# the most recently launched TensorBoard is used\n",
        "notebook.display(port=6006, height=1000) "
      ],
      "execution_count": null,
      "outputs": []
    },
    {
      "cell_type": "code",
      "metadata": {
        "id": "Aj20k8Q7h29n"
      },
      "source": [
        ""
      ],
      "execution_count": null,
      "outputs": []
    }
  ]
}